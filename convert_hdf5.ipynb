{
 "metadata": {
  "name": "",
  "signature": "sha256:73e4f22e36720e08c69c6049c9ce4f06bebd04223c068a621c9eba2be7eebef7"
 },
 "nbformat": 3,
 "nbformat_minor": 0,
 "worksheets": [
  {
   "cells": [
    {
     "cell_type": "code",
     "collapsed": false,
     "input": [
      "import os\n",
      "import h5py\n",
      "import pandas as pd\n",
      "import numpy as np"
     ],
     "language": "python",
     "metadata": {},
     "outputs": [],
     "prompt_number": 1
    },
    {
     "cell_type": "code",
     "collapsed": false,
     "input": [
      "dataset = pd.read_csv(\"sr_training_77811_stamp21.dat\", header=None)"
     ],
     "language": "python",
     "metadata": {},
     "outputs": [],
     "prompt_number": 2
    },
    {
     "cell_type": "code",
     "collapsed": false,
     "input": [
      "labels = dataset[1]\n",
      "raw_data = dataset.drop([0,1],axis=1).as_matrix()\n",
      "\n",
      "stacked_list = []\n",
      "for img in raw_data:\n",
      "    split_img = np.split(img, 21)\n",
      "    stacked = np.vstack(tuple(split_img))\n",
      "    stacked_list.append(stacked)\n",
      "data = np.array(stacked_list)\n",
      "data = np.expand_dims(data, axis=1)"
     ],
     "language": "python",
     "metadata": {},
     "outputs": [],
     "prompt_number": 3
    },
    {
     "cell_type": "code",
     "collapsed": false,
     "input": [
      "print labels.shape\n",
      "print data.shape"
     ],
     "language": "python",
     "metadata": {},
     "outputs": [
      {
       "output_type": "stream",
       "stream": "stdout",
       "text": [
        "(77811,)\n",
        "(77811, 1, 21, 63)\n"
       ]
      }
     ],
     "prompt_number": 4
    },
    {
     "cell_type": "code",
     "collapsed": false,
     "input": [
      "training_size = int(len(labels)*0.7)\n",
      "test_size = len(labels) - training_size\n",
      "\n",
      "training_labels = labels[:training_size]\n",
      "test_labels = labels[training_size:]\n",
      "training_data = data[:training_size]\n",
      "test_data = data[training_size:]\n",
      "\n",
      "print \"Training size: \" + str(training_size)\n",
      "print \"Test size: \" + str(test_size)\n",
      "print \"Check training size: \" + str(len(training_data))\n",
      "print \"Check test size: \" + str(len(test_data))"
     ],
     "language": "python",
     "metadata": {},
     "outputs": [
      {
       "output_type": "stream",
       "stream": "stdout",
       "text": [
        "Training size: 54467\n",
        "Test size: 23344\n",
        "Check training size: 54467\n",
        "Check test size: 23344\n"
       ]
      }
     ],
     "prompt_number": 5
    },
    {
     "cell_type": "code",
     "collapsed": false,
     "input": [
      "HOME_DIRECTORY = os.path.abspath(\"./hdf5_classification/\")\n",
      "DATA_DIRECTORY = os.path.join(HOME_DIRECTORY, \"data/\")\n",
      "if not os.path.exists(DATA_DIRECTORY):\n",
      "    os.makedirs(DATA_DIRECTORY)\n",
      "\n",
      "train_filename = os.path.join(DATA_DIRECTORY, \"train.h5\")\n",
      "test_filename = os.path.join(DATA_DIRECTORY, \"test.h5\")"
     ],
     "language": "python",
     "metadata": {},
     "outputs": [],
     "prompt_number": 6
    },
    {
     "cell_type": "code",
     "collapsed": false,
     "input": [
      "#comp_kwargs = {'compression': 'gzip', 'compression_opts': 1}\n",
      "\n",
      "with h5py.File(train_filename, 'w') as f:\n",
      "    f['data'] = training_data\n",
      "    f['label'] = training_labels.astype(np.float32)\n",
      "with open(os.path.join(DATA_DIRECTORY, 'train.txt'), 'w') as f:\n",
      "    f.write(train_filename + '\\n')\n",
      "\n",
      "with h5py.File(test_filename, 'w') as f:\n",
      "    f['data'] = test_data\n",
      "    f['label'] = test_labels.astype(np.float32)\n",
      "with open(os.path.join(DATA_DIRECTORY, 'test.txt'), 'w') as f:\n",
      "    f.write(test_filename + '\\n')"
     ],
     "language": "python",
     "metadata": {},
     "outputs": []
    },
    {
     "cell_type": "code",
     "collapsed": false,
     "input": [
      "import caffe"
     ],
     "language": "python",
     "metadata": {},
     "outputs": [],
     "prompt_number": 7
    },
    {
     "cell_type": "code",
     "collapsed": false,
     "input": [
      "MODEL_FILE = os.path.join(HOME_DIRECTORY, \"deploy.prototxt\")\n",
      "PRETRAINED_FILE = os.path.join(DATA_DIRECTORY, \"train_iter_5000.caffemodel\")\n",
      "net = caffe.Net(MODEL_FILE, PRETRAINED_FILE)\n",
      "net.set_phase_test()\n",
      "net.set_mode_gpu()"
     ],
     "language": "python",
     "metadata": {},
     "outputs": [],
     "prompt_number": 116
    },
    {
     "cell_type": "code",
     "collapsed": false,
     "input": [
      "out = net.forward_all(data=test_data)\n",
      "print len(out['prob'])"
     ],
     "language": "python",
     "metadata": {},
     "outputs": [
      {
       "output_type": "stream",
       "stream": "stdout",
       "text": [
        "23344\n"
       ]
      }
     ],
     "prompt_number": 117
    },
    {
     "cell_type": "code",
     "collapsed": false,
     "input": [
      "l = test_labels.as_matrix()\n",
      "output = out['prob']\n",
      "output = np.squeeze(output)\n",
      "predictions = np.asarray(map(lambda x: 1 if x[1] >= .237 else 0, output))\n",
      "print reduce(lambda x,y: (0,max(x[1], y[1])), output)\n",
      "true_positives, false_negatives, false_positives = 0, 0, 0\n",
      "for i in range(len(l)):\n",
      "    if l[i] == 1 and predictions[i] == 1:\n",
      "        true_positives += 1\n",
      "    elif l[i] == 1 and predictions[i] == 0:\n",
      "        false_negatives += 1\n",
      "    elif l[i] == 0 and predictions[i] == 1:\n",
      "        false_positives += 1\n",
      "print true_positives, false_negatives, false_positives\n",
      "print \"Accuracy: \" + str(float(true_positives)/float(true_positives + false_positives))"
     ],
     "language": "python",
     "metadata": {},
     "outputs": [
      {
       "output_type": "stream",
       "stream": "stdout",
       "text": [
        "(0, 0.23785812)\n",
        "4303 3 16952\n",
        "Accuracy: 0.20244648318\n"
       ]
      }
     ],
     "prompt_number": 120
    },
    {
     "cell_type": "code",
     "collapsed": false,
     "input": [],
     "language": "python",
     "metadata": {},
     "outputs": []
    }
   ],
   "metadata": {}
  }
 ]
}