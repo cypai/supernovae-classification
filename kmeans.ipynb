{
 "metadata": {
  "name": "",
  "signature": "sha256:e67cc44c71230d8d2f6f18c2225f1fadcd45cd2ea566be7af4e829d0d158e22d"
 },
 "nbformat": 3,
 "nbformat_minor": 0,
 "worksheets": [
  {
   "cells": [
    {
     "cell_type": "code",
     "collapsed": false,
     "input": [
      "import os\n",
      "import pandas as pd\n",
      "import numpy as np\n",
      "from pylab import *\n",
      "%matplotlib inline\n",
      "import matplotlib.pyplot as plt\n",
      "from sklearn.cluster import KMeans"
     ],
     "language": "python",
     "metadata": {},
     "outputs": [],
     "prompt_number": 3
    },
    {
     "cell_type": "code",
     "collapsed": false,
     "input": [
      "dataset = pd.read_csv(\"sr_training_77811_stamp21.dat\", header=None)\n",
      "labels = dataset[1]\n",
      "raw_data = dataset.drop([0,1],axis=1).ix[:,0:442]\n",
      "data = raw_data.as_matrix()\n",
      "#stacked_list = []\n",
      "#for img in raw_data:\n",
      "#    split_img = np.split(img, 21)\n",
      "#    stacked = np.vstack(tuple(split_img))\n",
      "#    stacked_list.append(stacked)\n",
      "#data = np.array(stacked_list)\n",
      "#data = np.expand_dims(data, axis=1)"
     ],
     "language": "python",
     "metadata": {},
     "outputs": [],
     "prompt_number": 4
    },
    {
     "cell_type": "code",
     "collapsed": false,
     "input": [
      "training_size = int(len(labels)*0.7)\n",
      "test_size = len(labels) - training_size\n",
      "\n",
      "training_labels = labels[:training_size]\n",
      "test_labels = labels[training_size:]\n",
      "training_data = data[:training_size]\n",
      "test_data = data[training_size:]\n",
      "\n",
      "print \"Training size: \" + str(training_size)\n",
      "print \"Test size: \" + str(test_size)\n",
      "print \"Check training size: \" + str(len(training_data))\n",
      "print \"Check test size: \" + str(len(test_data))\n",
      "print training_data.shape\n",
      "print test_data.shape"
     ],
     "language": "python",
     "metadata": {},
     "outputs": [
      {
       "output_type": "stream",
       "stream": "stdout",
       "text": [
        "Training size: 54467\n",
        "Test size: 23344\n",
        "Check training size: 54467\n",
        "Check test size: 23344\n",
        "(54467, 441)\n",
        "(23344, 441)\n"
       ]
      }
     ],
     "prompt_number": 5
    },
    {
     "cell_type": "code",
     "collapsed": false,
     "input": [
      "%%time\n",
      "kmeans_100 = KMeans(n_clusters=1000, n_init=1)\n",
      "kmeans_100.fit(training_data)"
     ],
     "language": "python",
     "metadata": {},
     "outputs": [
      {
       "output_type": "stream",
       "stream": "stdout",
       "text": [
        "CPU times: user 9min 21s, sys: 50.7 s, total: 10min 12s\n",
        "Wall time: 3min 39s\n"
       ]
      }
     ],
     "prompt_number": 6
    },
    {
     "cell_type": "code",
     "collapsed": false,
     "input": [
      "print \"Inertia for KMeans with 1000 clusters = %lf \" % kmeans_100.inertia_"
     ],
     "language": "python",
     "metadata": {},
     "outputs": [
      {
       "output_type": "stream",
       "stream": "stdout",
       "text": [
        "Inertia for KMeans with 1000 clusters = 14253911843712.931641 \n"
       ]
      }
     ],
     "prompt_number": 7
    },
    {
     "cell_type": "markdown",
     "metadata": {},
     "source": [
      ">TODO: Generate a data structure that contains (img_id, label, cluster)\n",
      ">TODO: Generate a labelling for each cluster"
     ]
    },
    {
     "cell_type": "code",
     "collapsed": false,
     "input": [
      "THRESHOLD = 0.5\n",
      "\n",
      "def generate_img_tuples(labels, kmeans_model):\n",
      "    \"\"\"\n",
      "    Returns a list of (img_id, label, cluster)\n",
      "    \"\"\"\n",
      "    clusters = kmeans_model.labels_\n",
      "    tuples = []\n",
      "    i = 0\n",
      "    for cluster in clusters:\n",
      "        tuples.append((i, labels[i], cluster))\n",
      "        i += 1\n",
      "    return tuples\n",
      "\n",
      "def sum_cluster_labels(tuples):\n",
      "    \"\"\"\n",
      "    Takes a list of (img_id, label, cluster)\n",
      "    Returns a dictionary {cluster_id: [number of nots, number of supernovae]}\n",
      "    \"\"\"\n",
      "    counter = {}\n",
      "    def add_label(d, cluster, label):\n",
      "        if cluster in d:\n",
      "            d[cluster][label] += 1\n",
      "        else:\n",
      "            d[cluster] = [0,0]\n",
      "            d[cluster][label] += 1\n",
      "    for t in tuples:\n",
      "        img_id, label, cluster = t\n",
      "        add_label(counter, cluster, label)\n",
      "    return counter\n",
      "\n",
      "def generate_cluster_labels(counter, threshold):\n",
      "    \"\"\"\n",
      "    Takes a dictionary of cluster label counts\n",
      "    Returns a dictionary {cluster_id: label}\n",
      "    \"\"\"\n",
      "    cluster_labels = {}\n",
      "    for k,v in counter.iteritems():\n",
      "        nonsupernovae, supernovae = v[0], v[1]\n",
      "        total = v[0] + v[1]\n",
      "        if supernovae > threshold * total:\n",
      "            cluster_labels[k] = 1\n",
      "        else:\n",
      "            cluster_labels[k] = 0\n",
      "    return cluster_labels\n",
      "\n",
      "def calculate_cluster_purity(counter, cluster_labels):\n",
      "    purity = {}\n",
      "    for cluster, counts in counter.iteritems():\n",
      "        label = cluster_labels[cluster]\n",
      "        try:\n",
      "            purity[cluster] = float(counts[label])/float(counts[0] + counts[1])\n",
      "        except:\n",
      "            purity[cluster] = None\n",
      "    return purity\n",
      "\n",
      "cluster_label_sums = sum_cluster_labels(generate_img_tuples(training_labels, kmeans_100))\n",
      "#print cluster_label_sums\n",
      "cluster_labels = generate_cluster_labels(cluster_label_sums, THRESHOLD)\n",
      "#print cluster_labels\n",
      "cluster_purity = calculate_cluster_purity(cluster_label_sums, cluster_labels)\n",
      "#print cluster_purity"
     ],
     "language": "python",
     "metadata": {},
     "outputs": [],
     "prompt_number": 8
    },
    {
     "cell_type": "markdown",
     "metadata": {},
     "source": [
      "Visualizations"
     ]
    },
    {
     "cell_type": "code",
     "collapsed": false,
     "input": [
      "def generate_sum_points(counter):\n",
      "    x, y = [], []\n",
      "    for k,v in counter.iteritems():\n",
      "        x.append(log(v[0]))\n",
      "        y.append(log(v[1]))\n",
      "    return (x,y)\n",
      "\n",
      "x,y = generate_sum_points(cluster_label_sums)\n",
      "plt.scatter(x,y)\n",
      "plt.plot([-.5,8],[-.5,8],'k-')\n",
      "plt.show()\n",
      "fig = plt.gcf()\n",
      "fig.set_size_inches(8,8)\n",
      "plt.savefig(\"purity.png\", dpi=100)"
     ],
     "language": "python",
     "metadata": {},
     "outputs": [
      {
       "metadata": {},
       "output_type": "display_data",
       "png": "[encoded data removed]",
       "text": [
        "<matplotlib.figure.Figure at 0x7faa593fa7d0>"
       ]
      },
      {
       "metadata": {},
       "output_type": "display_data",
       "text": [
        "<matplotlib.figure.Figure at 0x7faa5925ca90>"
       ]
      }
     ],
     "prompt_number": 10
    },
    {
     "cell_type": "code",
     "collapsed": false,
     "input": [
      "def predict_clusters(test_data, cluster_labels, kmeans_model):\n",
      "    predicted_clusters = kmeans_model.predict(test_data)\n",
      "    predicted_labels = []\n",
      "    for cluster in predicted_clusters:\n",
      "        predicted_labels.append(cluster_labels[cluster])\n",
      "    return predicted_labels\n",
      "\n",
      "def compare_labels(predictions, gold_standard):\n",
      "    true_positives, false_negatives, false_positives = 0, 0, 0\n",
      "    for i in range(len(predictions)):\n",
      "        if gold_standard[i] == 1 and predictions[i] == 1:\n",
      "            true_positives += 1\n",
      "        elif gold_standard[i] == 1 and predictions[i] == 0:\n",
      "            false_negatives += 1\n",
      "        elif gold_standard[i] == 0 and predictions[i] == 1:\n",
      "            false_positives += 1\n",
      "    return true_positives, false_negatives, false_positives\n",
      "\n",
      "predictions = predict_clusters(test_data, cluster_labels, kmeans_100)\n",
      "true_positives, false_negatives, false_positives = compare_labels(predictions, test_labels.as_matrix())\n",
      "print \"Threshold: \" + str(THRESHOLD)\n",
      "print \"True Positives: \" + str(true_positives)\n",
      "print \"False Negatives: \" + str(false_negatives)\n",
      "print \"False Positives: \" + str(false_positives)\n",
      "print \"Precision: \" + str(float(true_positives)/float(true_positives + false_positives))\n",
      "print \"Recall: \" + str(float(true_positives)/float(false_negatives))"
     ],
     "language": "python",
     "metadata": {},
     "outputs": [
      {
       "output_type": "stream",
       "stream": "stdout",
       "text": [
        "Threshold: 0.5\n",
        "True Positives: 57\n",
        "False Negatives: 4249\n",
        "False Positives: 28\n",
        "Precision: 0.670588235294\n",
        "Recall: 0.0134149211579\n"
       ]
      }
     ],
     "prompt_number": 9
    },
    {
     "cell_type": "code",
     "collapsed": false,
     "input": [],
     "language": "python",
     "metadata": {},
     "outputs": []
    }
   ],
   "metadata": {}
  }
 ]
}