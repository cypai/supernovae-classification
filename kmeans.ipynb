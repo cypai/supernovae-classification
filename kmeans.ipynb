{
 "metadata": {
  "name": "",
  "signature": "sha256:e47edf3a32013f79062f535eb13a173c75fc615e14df8826c4f7b15629e3a31d"
 },
 "nbformat": 3,
 "nbformat_minor": 0,
 "worksheets": [
  {
   "cells": [
    {
     "cell_type": "code",
     "collapsed": false,
     "input": [
      "import os\n",
      "import pandas as pd\n",
      "import numpy as np\n",
      "from pylab import *\n",
      "%matplotlib inline\n",
      "from sklearn.cluster import KMeans"
     ],
     "language": "python",
     "metadata": {},
     "outputs": [],
     "prompt_number": 1
    },
    {
     "cell_type": "code",
     "collapsed": false,
     "input": [
      "dataset = pd.read_csv(\"sr_training_77811_stamp21.dat\", header=None)\n",
      "labels = dataset[1]\n",
      "raw_data = dataset.drop([0,1],axis=1).as_matrix()\n",
      "data = raw_data\n",
      "#stacked_list = []\n",
      "#for img in raw_data:\n",
      "#    split_img = np.split(img, 21)\n",
      "#    stacked = np.vstack(tuple(split_img))\n",
      "#    stacked_list.append(stacked)\n",
      "#data = np.array(stacked_list)\n",
      "#data = np.expand_dims(data, axis=1)"
     ],
     "language": "python",
     "metadata": {},
     "outputs": [],
     "prompt_number": 3
    },
    {
     "cell_type": "code",
     "collapsed": false,
     "input": [
      "training_size = int(len(labels)*0.7)\n",
      "test_size = len(labels) - training_size\n",
      "\n",
      "training_labels = labels[:training_size]\n",
      "test_labels = labels[training_size:]\n",
      "training_data = data[:training_size]\n",
      "test_data = data[training_size:]\n",
      "\n",
      "print \"Training size: \" + str(training_size)\n",
      "print \"Test size: \" + str(test_size)\n",
      "print \"Check training size: \" + str(len(training_data))\n",
      "print \"Check test size: \" + str(len(test_data))\n",
      "print training_data.shape\n",
      "print test_data.shape"
     ],
     "language": "python",
     "metadata": {},
     "outputs": [
      {
       "output_type": "stream",
       "stream": "stdout",
       "text": [
        "Training size: 54467\n",
        "Test size: 23344\n",
        "Check training size: 54467\n",
        "Check test size: 23344\n",
        "(54467, 1323)\n",
        "(23344, 1323)\n"
       ]
      }
     ],
     "prompt_number": 4
    },
    {
     "cell_type": "code",
     "collapsed": false,
     "input": [
      "%%time\n",
      "kmeans_100 = KMeans(n_clusters=100, n_init=1)\n",
      "kmeans_100.fit(training_data)"
     ],
     "language": "python",
     "metadata": {},
     "outputs": [
      {
       "output_type": "stream",
       "stream": "stdout",
       "text": [
        "CPU times: user 5min 34s, sys: 1min 15s, total: 6min 49s\n",
        "Wall time: 1min 59s\n"
       ]
      }
     ],
     "prompt_number": 6
    },
    {
     "cell_type": "code",
     "collapsed": false,
     "input": [
      "print \"Inertia for KMeans with 100 clusters = %lf \" % kmeans_100.inertia_"
     ],
     "language": "python",
     "metadata": {},
     "outputs": [
      {
       "output_type": "stream",
       "stream": "stdout",
       "text": [
        "Inertia for KMeans with 100 clusters = 47387757369942.460938 \n"
       ]
      }
     ],
     "prompt_number": 7
    },
    {
     "cell_type": "markdown",
     "metadata": {},
     "source": [
      ">TODO: Generate a data structure that contains (img_id, label, cluster)\n",
      ">TODO: Generate a labelling for each cluster"
     ]
    },
    {
     "cell_type": "code",
     "collapsed": false,
     "input": [
      "def generate_img_tuples(labels, kmeans_model):\n",
      "    \"\"\"\n",
      "    Returns a list of (img_id, label, cluster)\n",
      "    \"\"\"\n",
      "    clusters = kmeans_model.labels_\n",
      "    tuples = []\n",
      "    i = 0\n",
      "    for cluster in clusters:\n",
      "        tuples.append((i, labels[i], cluster))\n",
      "        i += 1\n",
      "    return tuples\n",
      "\n",
      "def sum_cluster_labels(tuples):\n",
      "    \"\"\"\n",
      "    Takes a list of (img_id, label, cluster)\n",
      "    Returns a dictionary {cluster_id: [number of nots, number of supernovae]}\n",
      "    \"\"\"\n",
      "    counter = {}\n",
      "    def add_label(d, cluster, label):\n",
      "        if cluster in d:\n",
      "            d[cluster][label] += 1\n",
      "        else:\n",
      "            d[cluster] = [0,0]\n",
      "    for t in tuples:\n",
      "        img_id, label, cluster = t\n",
      "        add_label(counter, cluster, label)\n",
      "    return counter\n",
      "    \n",
      "def generate_cluster_labels(counter):\n",
      "    \"\"\"\n",
      "    Takes a dictionary of cluster label counts\n",
      "    Returns a dictionary {cluster_id: label}\n",
      "    \"\"\"\n",
      "    cluster_labels = {}\n",
      "    for k,v in counter.iteritems():\n",
      "        nonsupernovae, supernovae = v[0], v[1]\n",
      "        if supernovae > nonsupernovae:\n",
      "            cluster_labels[k] = 1\n",
      "        else:\n",
      "            cluster_labels[k] = 0\n",
      "    return cluster_labels\n",
      "\n",
      "cluster_label_sums = sum_cluster_labels(generate_img_tuples(training_labels, kmeans_100))\n",
      "print cluster_label_sums\n",
      "cluster_labels = generate_cluster_labels(cluster_label_sums)\n",
      "print cluster_labels"
     ],
     "language": "python",
     "metadata": {},
     "outputs": [
      {
       "output_type": "stream",
       "stream": "stdout",
       "text": [
        "{0: [7184, 3599], 1: [1856, 887], 2: [1, 0], 3: [363, 0], 4: [72, 0], 5: [108, 45], 6: [60, 0], 7: [110, 0], 8: [1586, 13], 9: [112, 24], 10: [6017, 3221], 11: [489, 0], 12: [7, 0], 13: [0, 0], 14: [0, 0], 15: [77, 0], 16: [120, 0], 17: [103, 0], 18: [810, 273], 19: [101, 0], 20: [658, 11], 21: [13, 0], 22: [112, 0], 23: [210, 54], 24: [60, 0], 25: [1196, 3], 26: [36, 0], 27: [3, 0], 28: [311, 0], 29: [91, 0], 30: [438, 0], 31: [543, 0], 32: [126, 0], 33: [72, 0], 34: [256, 0], 35: [15, 0], 36: [351, 0], 37: [93, 0], 38: [363, 0], 39: [1346, 438], 40: [546, 2], 41: [129, 0], 42: [29, 0], 43: [23, 0], 44: [19, 0], 45: [21, 0], 46: [45, 12], 47: [29, 0], 48: [86, 0], 49: [3785, 117], 50: [299, 1], 51: [201, 0], 52: [28, 0], 53: [14, 0], 54: [109, 0], 55: [3256, 1429], 56: [259, 0], 57: [98, 0], 58: [1024, 71], 59: [377, 6], 60: [78, 0], 61: [30, 1], 62: [1458, 26], 63: [11, 0], 64: [284, 0], 65: [44, 0], 66: [10, 0], 67: [39, 0], 68: [274, 0], 69: [83, 0], 70: [226, 0], 71: [89, 0], 72: [0, 0], 73: [209, 0], 74: [130, 0], 75: [13, 3], 76: [21, 0], 77: [42, 0], 78: [116, 0], 79: [282, 3], 80: [19, 0], 81: [247, 0], 82: [54, 0], 83: [70, 0], 84: [2, 0], 85: [146, 0], 86: [14, 0], 87: [405, 0], 88: [315, 13], 89: [13, 0], 90: [368, 0], 91: [357, 0], 92: [357, 2], 93: [29, 0], 94: [1048, 0], 95: [444, 112], 96: [632, 4], 97: [53, 0], 98: [15, 0], 99: [124, 0]}\n",
        "{0: 0, 1: 0, 2: 0, 3: 0, 4: 0, 5: 0, 6: 0, 7: 0, 8: 0, 9: 0, 10: 0, 11: 0, 12: 0, 13: 0, 14: 0, 15: 0, 16: 0, 17: 0, 18: 0, 19: 0, 20: 0, 21: 0, 22: 0, 23: 0, 24: 0, 25: 0, 26: 0, 27: 0, 28: 0, 29: 0, 30: 0, 31: 0, 32: 0, 33: 0, 34: 0, 35: 0, 36: 0, 37: 0, 38: 0, 39: 0, 40: 0, 41: 0, 42: 0, 43: 0, 44: 0, 45: 0, 46: 0, 47: 0, 48: 0, 49: 0, 50: 0, 51: 0, 52: 0, 53: 0, 54: 0, 55: 0, 56: 0, 57: 0, 58: 0, 59: 0, 60: 0, 61: 0, 62: 0, 63: 0, 64: 0, 65: 0, 66: 0, 67: 0, 68: 0, 69: 0, 70: 0, 71: 0, 72: 0, 73: 0, 74: 0, 75: 0, 76: 0, 77: 0, 78: 0, 79: 0, 80: 0, 81: 0, 82: 0, 83: 0, 84: 0, 85: 0, 86: 0, 87: 0, 88: 0, 89: 0, 90: 0, 91: 0, 92: 0, 93: 0, 94: 0, 95: 0, 96: 0, 97: 0, 98: 0, 99: 0}\n"
       ]
      }
     ],
     "prompt_number": 13
    },
    {
     "cell_type": "code",
     "collapsed": false,
     "input": [],
     "language": "python",
     "metadata": {},
     "outputs": []
    }
   ],
   "metadata": {}
  }
 ]
}