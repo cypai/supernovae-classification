{
 "metadata": {
  "name": "",
  "signature": "sha256:d0b554f4f3aa0a804166b208f1a528147c431735f34394a0d0579028c6ebb804"
 },
 "nbformat": 3,
 "nbformat_minor": 0,
 "worksheets": [
  {
   "cells": [
    {
     "cell_type": "code",
     "collapsed": false,
     "input": [
      "import os\n",
      "import pandas as pd\n",
      "import numpy as np\n",
      "from pylab import *\n",
      "%matplotlib inline\n",
      "import matplotlib.pyplot as plt\n",
      "from sklearn.cluster import KMeans\n",
      "from sklearn.externals import joblib"
     ],
     "language": "python",
     "metadata": {},
     "outputs": [],
     "prompt_number": 1
    },
    {
     "cell_type": "code",
     "collapsed": false,
     "input": [
      "dataset = pd.read_csv(\"sr_training_77811_stamp21.dat\", header=None)\n",
      "labels = dataset[1]\n",
      "raw_data = dataset.drop([0,1],axis=1).ix[:,0:442]\n",
      "data = raw_data.as_matrix()\n",
      "#stacked_list = []\n",
      "#for img in raw_data:\n",
      "#    split_img = np.split(img, 21)\n",
      "#    stacked = np.vstack(tuple(split_img))\n",
      "#    stacked_list.append(stacked)\n",
      "#data = np.array(stacked_list)\n",
      "#data = np.expand_dims(data, axis=1)"
     ],
     "language": "python",
     "metadata": {},
     "outputs": [],
     "prompt_number": 2
    },
    {
     "cell_type": "code",
     "collapsed": false,
     "input": [
      "def brightest_pos(row):\n",
      "    index = max(enumerate(row),key=lambda x: x[1])[0]\n",
      "    x = index % 21\n",
      "    y = index // 21\n",
      "    return x,y,index\n",
      "def get_slice_pos(center, size=12):\n",
      "    left = center[0]-size/2\n",
      "    if left < 0:\n",
      "        left = 0\n",
      "    elif left > 21-size:\n",
      "        left = 21-size\n",
      "    right = left + size\n",
      "    up = center[1]-size/2\n",
      "    if up < 0:\n",
      "        up = 0\n",
      "    elif up > 21-size:\n",
      "        up = 21-size\n",
      "    down = up + size\n",
      "    return left, right, up, down\n",
      "def get_slice(pos, row):\n",
      "    left, right, up, down = pos\n",
      "    centered_slice = []\n",
      "    split_rows = np.split(row, 21)\n",
      "    for split_row in split_rows[up:down]:\n",
      "        slice_row = list(split_row[left:right])\n",
      "        centered_slice = centered_slice + slice_row\n",
      "    return np.array(centered_slice)\n",
      "centered_matrix = []\n",
      "for row in data:\n",
      "    slice_pos = get_slice_pos(brightest_pos(row))\n",
      "    centered_row = get_slice(slice_pos, row)\n",
      "    centered_matrix.append(centered_row)\n",
      "centered_data = np.array(centered_matrix)\n",
      "print centered_data.shape\n",
      "centered_matrix = None"
     ],
     "language": "python",
     "metadata": {},
     "outputs": [
      {
       "output_type": "stream",
       "stream": "stdout",
       "text": [
        "(77811, 144)\n"
       ]
      }
     ],
     "prompt_number": 83
    },
    {
     "cell_type": "code",
     "collapsed": false,
     "input": [
      "#raw_features = pd.read_csv(\"samples_features_77811.csv\")\n",
      "#features = raw_features.drop([\"type\"],axis=1).as_matrix()\n",
      "#def add_feature(data, raw_features, feature_name):\n",
      "#    features = raw_features[feature_name].as_matrix()\n",
      "#    features = np.expand_dims(features, axis=0)\n",
      "#    features = np.transpose(features)\n",
      "#    return np.append(data, features, axis=1)\n",
      "\n",
      "#featurized_data = add_feature(data, raw_features, \"gauss\")\n",
      "#featurized_data = add_feature(featurized_data, raw_features, \"amp\")\n",
      "#featurized_data = add_feature(featurized_data, raw_features, \"ellipticity_ref\")\n",
      "#featurized_data = add_feature(featurized_data, raw_features, \"a_ref\")\n",
      "#featurized_data = add_feature(featurized_data, raw_features, \"b_ref\")\n",
      "#featurized_data = add_feature(featurized_data, raw_features, \"min_distance_to_edge_in_new\")\n",
      "#print featurized_data.shape"
     ],
     "language": "python",
     "metadata": {},
     "outputs": [],
     "prompt_number": 84
    },
    {
     "cell_type": "code",
     "collapsed": false,
     "input": [
      "training_size = int(len(labels)*0.7)\n",
      "test_size = len(labels) - training_size\n",
      "\n",
      "training_labels = labels[:training_size]\n",
      "test_labels = labels[training_size:]\n",
      "training_data = centered_data[:training_size]\n",
      "test_data = centered_data[training_size:]\n",
      "\n",
      "print \"Training size: \" + str(training_size)\n",
      "print \"Test size: \" + str(test_size)\n",
      "print \"Check training size: \" + str(len(training_data))\n",
      "print \"Check test size: \" + str(len(test_data))\n",
      "print training_data.shape\n",
      "print test_data.shape"
     ],
     "language": "python",
     "metadata": {},
     "outputs": [
      {
       "output_type": "stream",
       "stream": "stdout",
       "text": [
        "Training size: 54467\n",
        "Test size: 23344\n",
        "Check training size: 54467\n",
        "Check test size: 23344\n",
        "(54467, 144)\n",
        "(23344, 144)\n"
       ]
      }
     ],
     "prompt_number": 101
    },
    {
     "cell_type": "code",
     "collapsed": false,
     "input": [
      "%%time\n",
      "kmeans_100 = KMeans(n_clusters=5000, n_init=1, init='k-means++')\n",
      "kmeans_100.fit(training_data)"
     ],
     "language": "python",
     "metadata": {},
     "outputs": [
      {
       "output_type": "stream",
       "stream": "stdout",
       "text": [
        "CPU times: user 12min 23s, sys: 1min 17s, total: 13min 40s\n",
        "Wall time: 7min 12s\n"
       ]
      }
     ],
     "prompt_number": 102
    },
    {
     "cell_type": "code",
     "collapsed": false,
     "input": [
      "joblib.dump(kmeans_100, 'kmeans_model.pkl') "
     ],
     "language": "python",
     "metadata": {},
     "outputs": [
      {
       "metadata": {},
       "output_type": "pyout",
       "prompt_number": 103,
       "text": [
        "['kmeans_model.pkl', 'kmeans_model.pkl_01.npy', 'kmeans_model.pkl_02.npy']"
       ]
      }
     ],
     "prompt_number": 103
    },
    {
     "cell_type": "code",
     "collapsed": false,
     "input": [
      "kmeans_model = joblib.load('kmeans_model.pkl')"
     ],
     "language": "python",
     "metadata": {},
     "outputs": [],
     "prompt_number": 104
    },
    {
     "cell_type": "markdown",
     "metadata": {},
     "source": [
      ">TODO: Generate a data structure that contains (img_id, label, cluster)\n",
      ">TODO: Generate a labelling for each cluster"
     ]
    },
    {
     "cell_type": "code",
     "collapsed": false,
     "input": [
      "THRESHOLD = 0.4\n",
      "\n",
      "def generate_img_tuples(labels, kmeans_model):\n",
      "    \"\"\"\n",
      "    Returns a list of (img_id, label, cluster)\n",
      "    \"\"\"\n",
      "    clusters = kmeans_model.labels_\n",
      "    tuples = []\n",
      "    i = 0\n",
      "    for cluster in clusters:\n",
      "        tuples.append((i, labels[i], cluster))\n",
      "        i += 1\n",
      "    return tuples\n",
      "\n",
      "def sum_cluster_labels(tuples):\n",
      "    \"\"\"\n",
      "    Takes a list of (img_id, label, cluster)\n",
      "    Returns a dictionary {cluster_id: [number of nots, number of supernovae]}\n",
      "    \"\"\"\n",
      "    counter = {}\n",
      "    def add_label(d, cluster, label):\n",
      "        if cluster in d:\n",
      "            d[cluster][label] += 1\n",
      "        else:\n",
      "            d[cluster] = [0,0]\n",
      "            d[cluster][label] += 1\n",
      "    for t in tuples:\n",
      "        img_id, label, cluster = t\n",
      "        add_label(counter, cluster, label)\n",
      "    return counter\n",
      "\n",
      "def generate_cluster_labels(counter, threshold):\n",
      "    \"\"\"\n",
      "    Takes a dictionary of cluster label counts\n",
      "    Returns a dictionary {cluster_id: label}\n",
      "    \"\"\"\n",
      "    cluster_labels = {}\n",
      "    for k,v in counter.iteritems():\n",
      "        nonsupernovae, supernovae = v[0], v[1]\n",
      "        total = v[0] + v[1]\n",
      "        if supernovae >= threshold * total:\n",
      "            cluster_labels[k] = 1\n",
      "        else:\n",
      "            cluster_labels[k] = 0\n",
      "    return cluster_labels\n",
      "\n",
      "def calculate_cluster_purity(counter, cluster_labels):\n",
      "    purity = {}\n",
      "    for cluster, counts in counter.iteritems():\n",
      "        label = cluster_labels[cluster]\n",
      "        try:\n",
      "            purity[cluster] = float(counts[label])/float(counts[0] + counts[1])\n",
      "        except:\n",
      "            purity[cluster] = None\n",
      "    return purity\n",
      "\n",
      "cluster_label_sums = sum_cluster_labels(generate_img_tuples(training_labels, kmeans_model))\n",
      "#print cluster_label_sums\n",
      "cluster_labels = generate_cluster_labels(cluster_label_sums, THRESHOLD)\n",
      "#print cluster_labels\n",
      "cluster_purity = calculate_cluster_purity(cluster_label_sums, cluster_labels)\n",
      "#print cluster_purity"
     ],
     "language": "python",
     "metadata": {},
     "outputs": [],
     "prompt_number": 108
    },
    {
     "cell_type": "markdown",
     "metadata": {},
     "source": [
      "Visualizations"
     ]
    },
    {
     "cell_type": "code",
     "collapsed": false,
     "input": [
      "def generate_sum_points(counter):\n",
      "    x, y = [], []\n",
      "    for k,v in counter.iteritems():\n",
      "        x_k = 0 if v[0] == 0 else log(v[0])\n",
      "        y_k = 0 if v[1] == 0 else log(v[1])\n",
      "        x.append(x_k)\n",
      "        y.append(y_k)\n",
      "    return (x,y)\n",
      "\n",
      "x,y = generate_sum_points(cluster_label_sums)\n",
      "plt.scatter(x,y)\n",
      "plt.plot([-.5,6],[-.5,6],'k-')\n",
      "plt.savefig(\"purity.png\", dpi=1000)\n",
      "plt.show()"
     ],
     "language": "python",
     "metadata": {},
     "outputs": [
      {
       "metadata": {},
       "output_type": "display_data",
       "png": "[encoded data removed]",
       "text": [
        "<matplotlib.figure.Figure at 0x7fa992358d10>"
       ]
      }
     ],
     "prompt_number": 106
    },
    {
     "cell_type": "code",
     "collapsed": false,
     "input": [
      "def predict_clusters(test_data, cluster_labels, kmeans_model):\n",
      "    predicted_clusters = kmeans_model.predict(test_data)\n",
      "    predicted_labels = []\n",
      "    for cluster in predicted_clusters:\n",
      "        predicted_labels.append(cluster_labels[cluster])\n",
      "    return predicted_labels\n",
      "\n",
      "def compare_labels(predictions, gold_standard):\n",
      "    true_positives, false_negatives, false_positives = 0, 0, 0\n",
      "    for i in range(len(predictions)):\n",
      "        if gold_standard[i] == 1 and predictions[i] == 1:\n",
      "            true_positives += 1\n",
      "        elif gold_standard[i] == 1 and predictions[i] == 0:\n",
      "            false_negatives += 1\n",
      "        elif gold_standard[i] == 0 and predictions[i] == 1:\n",
      "            false_positives += 1\n",
      "    return true_positives, false_negatives, false_positives\n",
      "\n",
      "predictions = predict_clusters(test_data, cluster_labels, kmeans_model)\n",
      "true_positives, false_negatives, false_positives = compare_labels(predictions, test_labels.as_matrix())\n",
      "print \"Threshold: \" + str(THRESHOLD)\n",
      "print \"True Positives: \" + str(true_positives)\n",
      "print \"False Negatives: \" + str(false_negatives)\n",
      "print \"False Positives: \" + str(false_positives)\n",
      "print \"Precision: \" + str(float(true_positives)/float(true_positives + false_positives))\n",
      "print \"Recall: \" + str(float(true_positives)/float(false_negatives + true_positives))"
     ],
     "language": "python",
     "metadata": {},
     "outputs": [
      {
       "output_type": "stream",
       "stream": "stdout",
       "text": [
        "Threshold: 0.4\n",
        "True Positives: 3421\n",
        "False Negatives: 885\n",
        "False Positives: 3178\n",
        "Precision: 0.518411880588\n",
        "Recall: 0.794472828611\n"
       ]
      }
     ],
     "prompt_number": 109
    },
    {
     "cell_type": "code",
     "collapsed": false,
     "input": [],
     "language": "python",
     "metadata": {},
     "outputs": [],
     "prompt_number": 107
    }
   ],
   "metadata": {}
  }
 ]
}